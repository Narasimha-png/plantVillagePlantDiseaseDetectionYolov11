{
 "cells": [
  {
   "cell_type": "code",
   "execution_count": null,
   "metadata": {},
   "outputs": [
    {
     "name": "stdout",
     "output_type": "stream",
     "text": [
      "Collecting kagglehub\n",
      "  Downloading kagglehub-0.3.11-py3-none-any.whl.metadata (32 kB)\n",
      "Requirement already satisfied: packaging in /system/conda/miniconda3/envs/cloudspace/lib/python3.10/site-packages (from kagglehub) (24.2)\n",
      "Requirement already satisfied: pyyaml in /system/conda/miniconda3/envs/cloudspace/lib/python3.10/site-packages (from kagglehub) (6.0.2)\n",
      "Requirement already satisfied: requests in /system/conda/miniconda3/envs/cloudspace/lib/python3.10/site-packages (from kagglehub) (2.32.3)\n",
      "Requirement already satisfied: tqdm in /system/conda/miniconda3/envs/cloudspace/lib/python3.10/site-packages (from kagglehub) (4.67.1)\n",
      "Requirement already satisfied: charset-normalizer<4,>=2 in /system/conda/miniconda3/envs/cloudspace/lib/python3.10/site-packages (from requests->kagglehub) (3.4.1)\n",
      "Requirement already satisfied: idna<4,>=2.5 in /system/conda/miniconda3/envs/cloudspace/lib/python3.10/site-packages (from requests->kagglehub) (3.10)\n",
      "Requirement already satisfied: urllib3<3,>=1.21.1 in /system/conda/miniconda3/envs/cloudspace/lib/python3.10/site-packages (from requests->kagglehub) (2.4.0)\n",
      "Requirement already satisfied: certifi>=2017.4.17 in /system/conda/miniconda3/envs/cloudspace/lib/python3.10/site-packages (from requests->kagglehub) (2025.1.31)\n",
      "Downloading kagglehub-0.3.11-py3-none-any.whl (63 kB)\n",
      "Installing collected packages: kagglehub\n",
      "Successfully installed kagglehub-0.3.11\n",
      "Collecting opencv-contrib-python\n",
      "  Downloading opencv_contrib_python-4.11.0.86-cp37-abi3-manylinux_2_17_x86_64.manylinux2014_x86_64.whl.metadata (20 kB)\n",
      "Requirement already satisfied: numpy>=1.21.2 in /system/conda/miniconda3/envs/cloudspace/lib/python3.10/site-packages (from opencv-contrib-python) (1.26.4)\n",
      "Downloading opencv_contrib_python-4.11.0.86-cp37-abi3-manylinux_2_17_x86_64.manylinux2014_x86_64.whl (69.1 MB)\n",
      "\u001b[2K   \u001b[90m━━━━━━━━━━━━━━━━━━━━━━━━━━━━━━━━━━━━━━━━\u001b[0m \u001b[32m69.1/69.1 MB\u001b[0m \u001b[31m190.9 MB/s\u001b[0m eta \u001b[36m0:00:00\u001b[0ma \u001b[36m0:00:01\u001b[0m\n",
      "\u001b[?25hInstalling collected packages: opencv-contrib-python\n",
      "Successfully installed opencv-contrib-python-4.11.0.86\n",
      "\u001b[31mERROR: Could not find a version that satisfies the requirement ultralythics (from versions: none)\u001b[0m\u001b[31m\n",
      "\u001b[0m\u001b[31mERROR: No matching distribution found for ultralythics\u001b[0m\u001b[31m\n",
      "\u001b[0m"
     ]
    }
   ],
   "source": [
    "!pip install kagglehub\n",
    "!pip install opencv-contrib-python\n"
   ]
  },
  {
   "cell_type": "code",
   "execution_count": 4,
   "metadata": {},
   "outputs": [
    {
     "name": "stdout",
     "output_type": "stream",
     "text": [
      "Collecting ultralytics\n",
      "  Downloading ultralytics-8.3.111-py3-none-any.whl.metadata (37 kB)\n",
      "Requirement already satisfied: numpy<=2.1.1,>=1.23.0 in /system/conda/miniconda3/envs/cloudspace/lib/python3.10/site-packages (from ultralytics) (1.26.4)\n",
      "Requirement already satisfied: matplotlib>=3.3.0 in /system/conda/miniconda3/envs/cloudspace/lib/python3.10/site-packages (from ultralytics) (3.8.2)\n",
      "Collecting opencv-python>=4.6.0 (from ultralytics)\n",
      "  Downloading opencv_python-4.11.0.86-cp37-abi3-manylinux_2_17_x86_64.manylinux2014_x86_64.whl.metadata (20 kB)\n",
      "Requirement already satisfied: pillow>=7.1.2 in /system/conda/miniconda3/envs/cloudspace/lib/python3.10/site-packages (from ultralytics) (11.2.1)\n",
      "Requirement already satisfied: pyyaml>=5.3.1 in /system/conda/miniconda3/envs/cloudspace/lib/python3.10/site-packages (from ultralytics) (6.0.2)\n",
      "Requirement already satisfied: requests>=2.23.0 in /system/conda/miniconda3/envs/cloudspace/lib/python3.10/site-packages (from ultralytics) (2.32.3)\n",
      "Requirement already satisfied: scipy>=1.4.1 in /system/conda/miniconda3/envs/cloudspace/lib/python3.10/site-packages (from ultralytics) (1.11.4)\n",
      "Requirement already satisfied: torch>=1.8.0 in /system/conda/miniconda3/envs/cloudspace/lib/python3.10/site-packages (from ultralytics) (2.2.1+cu121)\n",
      "Requirement already satisfied: torchvision>=0.9.0 in /system/conda/miniconda3/envs/cloudspace/lib/python3.10/site-packages (from ultralytics) (0.17.1+cu121)\n",
      "Requirement already satisfied: tqdm>=4.64.0 in /system/conda/miniconda3/envs/cloudspace/lib/python3.10/site-packages (from ultralytics) (4.67.1)\n",
      "Requirement already satisfied: psutil in /system/conda/miniconda3/envs/cloudspace/lib/python3.10/site-packages (from ultralytics) (7.0.0)\n",
      "Collecting py-cpuinfo (from ultralytics)\n",
      "  Downloading py_cpuinfo-9.0.0-py3-none-any.whl.metadata (794 bytes)\n",
      "Requirement already satisfied: pandas>=1.1.4 in /system/conda/miniconda3/envs/cloudspace/lib/python3.10/site-packages (from ultralytics) (2.1.4)\n",
      "Collecting seaborn>=0.11.0 (from ultralytics)\n",
      "  Downloading seaborn-0.13.2-py3-none-any.whl.metadata (5.4 kB)\n",
      "Collecting ultralytics-thop>=2.0.0 (from ultralytics)\n",
      "  Downloading ultralytics_thop-2.0.14-py3-none-any.whl.metadata (9.4 kB)\n",
      "Requirement already satisfied: contourpy>=1.0.1 in /system/conda/miniconda3/envs/cloudspace/lib/python3.10/site-packages (from matplotlib>=3.3.0->ultralytics) (1.3.1)\n",
      "Requirement already satisfied: cycler>=0.10 in /system/conda/miniconda3/envs/cloudspace/lib/python3.10/site-packages (from matplotlib>=3.3.0->ultralytics) (0.12.1)\n",
      "Requirement already satisfied: fonttools>=4.22.0 in /system/conda/miniconda3/envs/cloudspace/lib/python3.10/site-packages (from matplotlib>=3.3.0->ultralytics) (4.57.0)\n",
      "Requirement already satisfied: kiwisolver>=1.3.1 in /system/conda/miniconda3/envs/cloudspace/lib/python3.10/site-packages (from matplotlib>=3.3.0->ultralytics) (1.4.8)\n",
      "Requirement already satisfied: packaging>=20.0 in /system/conda/miniconda3/envs/cloudspace/lib/python3.10/site-packages (from matplotlib>=3.3.0->ultralytics) (24.2)\n",
      "Requirement already satisfied: pyparsing>=2.3.1 in /system/conda/miniconda3/envs/cloudspace/lib/python3.10/site-packages (from matplotlib>=3.3.0->ultralytics) (3.2.3)\n",
      "Requirement already satisfied: python-dateutil>=2.7 in /system/conda/miniconda3/envs/cloudspace/lib/python3.10/site-packages (from matplotlib>=3.3.0->ultralytics) (2.9.0.post0)\n",
      "Requirement already satisfied: pytz>=2020.1 in /system/conda/miniconda3/envs/cloudspace/lib/python3.10/site-packages (from pandas>=1.1.4->ultralytics) (2025.2)\n",
      "Requirement already satisfied: tzdata>=2022.1 in /system/conda/miniconda3/envs/cloudspace/lib/python3.10/site-packages (from pandas>=1.1.4->ultralytics) (2025.2)\n",
      "Requirement already satisfied: charset-normalizer<4,>=2 in /system/conda/miniconda3/envs/cloudspace/lib/python3.10/site-packages (from requests>=2.23.0->ultralytics) (3.4.1)\n",
      "Requirement already satisfied: idna<4,>=2.5 in /system/conda/miniconda3/envs/cloudspace/lib/python3.10/site-packages (from requests>=2.23.0->ultralytics) (3.10)\n",
      "Requirement already satisfied: urllib3<3,>=1.21.1 in /system/conda/miniconda3/envs/cloudspace/lib/python3.10/site-packages (from requests>=2.23.0->ultralytics) (2.4.0)\n",
      "Requirement already satisfied: certifi>=2017.4.17 in /system/conda/miniconda3/envs/cloudspace/lib/python3.10/site-packages (from requests>=2.23.0->ultralytics) (2025.1.31)\n",
      "Requirement already satisfied: filelock in /system/conda/miniconda3/envs/cloudspace/lib/python3.10/site-packages (from torch>=1.8.0->ultralytics) (3.18.0)\n",
      "Requirement already satisfied: typing-extensions>=4.8.0 in /system/conda/miniconda3/envs/cloudspace/lib/python3.10/site-packages (from torch>=1.8.0->ultralytics) (4.13.2)\n",
      "Requirement already satisfied: sympy in /system/conda/miniconda3/envs/cloudspace/lib/python3.10/site-packages (from torch>=1.8.0->ultralytics) (1.13.3)\n",
      "Requirement already satisfied: networkx in /system/conda/miniconda3/envs/cloudspace/lib/python3.10/site-packages (from torch>=1.8.0->ultralytics) (3.4.2)\n",
      "Requirement already satisfied: jinja2 in /system/conda/miniconda3/envs/cloudspace/lib/python3.10/site-packages (from torch>=1.8.0->ultralytics) (3.1.6)\n",
      "Requirement already satisfied: fsspec in /system/conda/miniconda3/envs/cloudspace/lib/python3.10/site-packages (from torch>=1.8.0->ultralytics) (2025.3.2)\n",
      "Requirement already satisfied: nvidia-cuda-nvrtc-cu12==12.1.105 in /system/conda/miniconda3/envs/cloudspace/lib/python3.10/site-packages (from torch>=1.8.0->ultralytics) (12.1.105)\n",
      "Requirement already satisfied: nvidia-cuda-runtime-cu12==12.1.105 in /system/conda/miniconda3/envs/cloudspace/lib/python3.10/site-packages (from torch>=1.8.0->ultralytics) (12.1.105)\n",
      "Requirement already satisfied: nvidia-cuda-cupti-cu12==12.1.105 in /system/conda/miniconda3/envs/cloudspace/lib/python3.10/site-packages (from torch>=1.8.0->ultralytics) (12.1.105)\n",
      "Requirement already satisfied: nvidia-cudnn-cu12==8.9.2.26 in /system/conda/miniconda3/envs/cloudspace/lib/python3.10/site-packages (from torch>=1.8.0->ultralytics) (8.9.2.26)\n",
      "Requirement already satisfied: nvidia-cublas-cu12==12.1.3.1 in /system/conda/miniconda3/envs/cloudspace/lib/python3.10/site-packages (from torch>=1.8.0->ultralytics) (12.1.3.1)\n",
      "Requirement already satisfied: nvidia-cufft-cu12==11.0.2.54 in /system/conda/miniconda3/envs/cloudspace/lib/python3.10/site-packages (from torch>=1.8.0->ultralytics) (11.0.2.54)\n",
      "Requirement already satisfied: nvidia-curand-cu12==10.3.2.106 in /system/conda/miniconda3/envs/cloudspace/lib/python3.10/site-packages (from torch>=1.8.0->ultralytics) (10.3.2.106)\n",
      "Requirement already satisfied: nvidia-cusolver-cu12==11.4.5.107 in /system/conda/miniconda3/envs/cloudspace/lib/python3.10/site-packages (from torch>=1.8.0->ultralytics) (11.4.5.107)\n",
      "Requirement already satisfied: nvidia-cusparse-cu12==12.1.0.106 in /system/conda/miniconda3/envs/cloudspace/lib/python3.10/site-packages (from torch>=1.8.0->ultralytics) (12.1.0.106)\n",
      "Requirement already satisfied: nvidia-nccl-cu12==2.19.3 in /system/conda/miniconda3/envs/cloudspace/lib/python3.10/site-packages (from torch>=1.8.0->ultralytics) (2.19.3)\n",
      "Requirement already satisfied: nvidia-nvtx-cu12==12.1.105 in /system/conda/miniconda3/envs/cloudspace/lib/python3.10/site-packages (from torch>=1.8.0->ultralytics) (12.1.105)\n",
      "Requirement already satisfied: triton==2.2.0 in /system/conda/miniconda3/envs/cloudspace/lib/python3.10/site-packages (from torch>=1.8.0->ultralytics) (2.2.0)\n",
      "Requirement already satisfied: nvidia-nvjitlink-cu12 in /system/conda/miniconda3/envs/cloudspace/lib/python3.10/site-packages (from nvidia-cusolver-cu12==11.4.5.107->torch>=1.8.0->ultralytics) (12.8.93)\n",
      "Requirement already satisfied: six>=1.5 in /system/conda/miniconda3/envs/cloudspace/lib/python3.10/site-packages (from python-dateutil>=2.7->matplotlib>=3.3.0->ultralytics) (1.17.0)\n",
      "Requirement already satisfied: MarkupSafe>=2.0 in /system/conda/miniconda3/envs/cloudspace/lib/python3.10/site-packages (from jinja2->torch>=1.8.0->ultralytics) (3.0.2)\n",
      "Requirement already satisfied: mpmath<1.4,>=1.1.0 in /system/conda/miniconda3/envs/cloudspace/lib/python3.10/site-packages (from sympy->torch>=1.8.0->ultralytics) (1.3.0)\n",
      "Downloading ultralytics-8.3.111-py3-none-any.whl (978 kB)\n",
      "\u001b[2K   \u001b[90m━━━━━━━━━━━━━━━━━━━━━━━━━━━━━━━━━━━━━━━━\u001b[0m \u001b[32m978.8/978.8 kB\u001b[0m \u001b[31m39.9 MB/s\u001b[0m eta \u001b[36m0:00:00\u001b[0m\n",
      "\u001b[?25hDownloading opencv_python-4.11.0.86-cp37-abi3-manylinux_2_17_x86_64.manylinux2014_x86_64.whl (63.0 MB)\n",
      "\u001b[2K   \u001b[90m━━━━━━━━━━━━━━━━━━━━━━━━━━━━━━━━━━━━━━━━\u001b[0m \u001b[32m63.0/63.0 MB\u001b[0m \u001b[31m199.4 MB/s\u001b[0m eta \u001b[36m0:00:00\u001b[0m00:01\u001b[0m\n",
      "\u001b[?25hDownloading seaborn-0.13.2-py3-none-any.whl (294 kB)\n",
      "Downloading ultralytics_thop-2.0.14-py3-none-any.whl (26 kB)\n",
      "Downloading py_cpuinfo-9.0.0-py3-none-any.whl (22 kB)\n",
      "Installing collected packages: py-cpuinfo, opencv-python, seaborn, ultralytics-thop, ultralytics\n",
      "Successfully installed opencv-python-4.11.0.86 py-cpuinfo-9.0.0 seaborn-0.13.2 ultralytics-8.3.111 ultralytics-thop-2.0.14\n",
      "Note: you may need to restart the kernel to use updated packages.\n"
     ]
    }
   ],
   "source": [
    "pip install ultralytics"
   ]
  },
  {
   "cell_type": "code",
   "execution_count": 3,
   "metadata": {},
   "outputs": [
    {
     "name": "stdout",
     "output_type": "stream",
     "text": [
      "Downloading from https://www.kaggle.com/api/v1/datasets/download/sebastianpalaciob/plantvillage-for-object-detection-yolo?dataset_version_number=1...\n"
     ]
    },
    {
     "name": "stderr",
     "output_type": "stream",
     "text": [
      "100%|██████████| 829M/829M [00:08<00:00, 102MB/s]  "
     ]
    },
    {
     "name": "stdout",
     "output_type": "stream",
     "text": [
      "Extracting files...\n"
     ]
    },
    {
     "name": "stderr",
     "output_type": "stream",
     "text": [
      "\n"
     ]
    },
    {
     "name": "stdout",
     "output_type": "stream",
     "text": [
      "Copied dataset to visible path: /teamspace/studios/this_studio/plantvillage\n"
     ]
    }
   ],
   "source": [
    "import shutil\n",
    "import os\n",
    "import kagglehub\n",
    "\n",
    "# Download the dataset\n",
    "dataset_path = kagglehub.dataset_download('sebastianpalaciob/plantvillage-for-object-detection-yolo')\n",
    "\n",
    "# Destination path you can see in the file explorer\n",
    "visible_path = '/teamspace/studios/this_studio/plantvillage'\n",
    "\n",
    "# Create the destination folder if it doesn't exist\n",
    "os.makedirs(visible_path, exist_ok=True)\n",
    "\n",
    "# Copy the entire dataset folder to visible directory\n",
    "shutil.copytree(dataset_path, visible_path, dirs_exist_ok=True)\n",
    "\n",
    "print(\"Copied dataset to visible path:\", visible_path)\n"
   ]
  },
  {
   "cell_type": "code",
   "execution_count": 5,
   "metadata": {},
   "outputs": [
    {
     "name": "stdout",
     "output_type": "stream",
     "text": [
      "Ultralytics 8.3.111 🚀 Python-3.10.10 torch-2.2.1+cu121 CPU (Intel Xeon Platinum 8175M 2.50GHz)\n",
      "Setup complete ✅ (4 CPUs, 15.2 GB RAM, 30.8/387.5 GB disk)\n"
     ]
    }
   ],
   "source": [
    "import os\n",
    "import cv2\n",
    "import numpy as np\n",
    "import pandas as pd\n",
    "from tqdm import tqdm\n",
    "import shutil\n",
    "from shutil import copyfile\n",
    "import matplotlib.pyplot as plt\n",
    "from PIL import Image\n",
    "import random\n",
    "import ultralytics\n",
    "from ultralytics import YOLO\n",
    "ultralytics.checks()"
   ]
  },
  {
   "cell_type": "code",
   "execution_count": 6,
   "metadata": {},
   "outputs": [],
   "source": [
    "img_path='/teamspace/studios/this_studio/plantvillage/PlantVillage_for_object_detection/Dataset/images'\n",
    "label_path='/teamspace/studios/this_studio/plantvillage/PlantVillage_for_object_detection/Dataset/labels'"
   ]
  },
  {
   "cell_type": "code",
   "execution_count": 8,
   "metadata": {},
   "outputs": [],
   "source": [
    "ipaths=[]\n",
    "types=[]\n",
    "for dirname, _, filenames in os.walk(img_path):\n",
    "    for filename in filenames:\n",
    "        ipaths+=[os.path.join(dirname, filename)]\n",
    "        types+=[filename.split('.')[-1]]\n",
    "tpaths=[]\n",
    "for dirname, _, filenames in os.walk(label_path):\n",
    "    for filename in filenames:\n",
    "        tpaths+=[os.path.join(dirname, filename)]    \n",
    "ipaths=sorted(ipaths)\n",
    "tpaths=sorted(tpaths)\n",
    "paths=[]\n",
    "for ip,tp in zip(ipaths,tpaths):\n",
    "    paths+=[(ip,tp)]\n",
    "random.shuffle(paths)\n",
    "ipaths=[]\n",
    "tpaths=[]\n",
    "for p in paths:\n",
    "    ipaths+=[p[0]]\n",
    "    tpaths+=[p[1]]"
   ]
  },
  {
   "cell_type": "code",
   "execution_count": 9,
   "metadata": {},
   "outputs": [
    {
     "name": "stdout",
     "output_type": "stream",
     "text": [
      "54293\n"
     ]
    }
   ],
   "source": [
    "print(len(ipaths))"
   ]
  },
  {
   "cell_type": "code",
   "execution_count": 10,
   "metadata": {},
   "outputs": [
    {
     "name": "stdout",
     "output_type": "stream",
     "text": [
      "{'jpg', 'JPG'}\n",
      "jpg 54292\n",
      "JPG 1\n"
     ]
    }
   ],
   "source": [
    "print(set(types))\n",
    "for typei in list(set(types)):\n",
    "    print(typei,types.count(typei))"
   ]
  },
  {
   "cell_type": "code",
   "execution_count": 11,
   "metadata": {},
   "outputs": [
    {
     "name": "stdout",
     "output_type": "stream",
     "text": [
      "[         35     0.46484     0.48242     0.60156     0.91797]\n"
     ]
    }
   ],
   "source": [
    "boxdata=[]\n",
    "boxfile=[]\n",
    "for i in range(len(tpaths)):\n",
    "    tfile=tpaths[i]\n",
    "    ifile=ipaths[i]\n",
    "    boxdata+=[np.loadtxt(tfile)]     \n",
    "    boxfile+=[ifile.split('/')[-1]]\n",
    "print(boxdata[0])"
   ]
  },
  {
   "cell_type": "code",
   "execution_count": 12,
   "metadata": {},
   "outputs": [
    {
     "data": {
      "text/html": [
       "<div>\n",
       "<style scoped>\n",
       "    .dataframe tbody tr th:only-of-type {\n",
       "        vertical-align: middle;\n",
       "    }\n",
       "\n",
       "    .dataframe tbody tr th {\n",
       "        vertical-align: top;\n",
       "    }\n",
       "\n",
       "    .dataframe thead th {\n",
       "        text-align: right;\n",
       "    }\n",
       "</style>\n",
       "<table border=\"1\" class=\"dataframe\">\n",
       "  <thead>\n",
       "    <tr style=\"text-align: right;\">\n",
       "      <th></th>\n",
       "      <th>0</th>\n",
       "      <th>1</th>\n",
       "      <th>2</th>\n",
       "      <th>3</th>\n",
       "      <th>4</th>\n",
       "      <th>5</th>\n",
       "    </tr>\n",
       "  </thead>\n",
       "  <tbody>\n",
       "    <tr>\n",
       "      <th>0</th>\n",
       "      <td>35.0</td>\n",
       "      <td>0.464844</td>\n",
       "      <td>0.482422</td>\n",
       "      <td>0.601562</td>\n",
       "      <td>0.917969</td>\n",
       "      <td>TMYC_image (4576).jpg</td>\n",
       "    </tr>\n",
       "    <tr>\n",
       "      <th>1</th>\n",
       "      <td>35.0</td>\n",
       "      <td>0.505859</td>\n",
       "      <td>0.503906</td>\n",
       "      <td>0.878906</td>\n",
       "      <td>0.937500</td>\n",
       "      <td>TMYC_image (1978).jpg</td>\n",
       "    </tr>\n",
       "    <tr>\n",
       "      <th>2</th>\n",
       "      <td>5.0</td>\n",
       "      <td>0.513672</td>\n",
       "      <td>0.500000</td>\n",
       "      <td>0.933594</td>\n",
       "      <td>0.992188</td>\n",
       "      <td>CHPM_image (49).jpg</td>\n",
       "    </tr>\n",
       "    <tr>\n",
       "      <th>3</th>\n",
       "      <td>2.0</td>\n",
       "      <td>0.476562</td>\n",
       "      <td>0.509766</td>\n",
       "      <td>0.914062</td>\n",
       "      <td>0.949219</td>\n",
       "      <td>APCR_image (149).jpg</td>\n",
       "    </tr>\n",
       "    <tr>\n",
       "      <th>4</th>\n",
       "      <td>20.0</td>\n",
       "      <td>0.488281</td>\n",
       "      <td>0.492188</td>\n",
       "      <td>0.976562</td>\n",
       "      <td>0.984375</td>\n",
       "      <td>PTEB_image (117).jpg</td>\n",
       "    </tr>\n",
       "    <tr>\n",
       "      <th>...</th>\n",
       "      <td>...</td>\n",
       "      <td>...</td>\n",
       "      <td>...</td>\n",
       "      <td>...</td>\n",
       "      <td>...</td>\n",
       "      <td>...</td>\n",
       "    </tr>\n",
       "    <tr>\n",
       "      <th>54343</th>\n",
       "      <td>21.0</td>\n",
       "      <td>0.482422</td>\n",
       "      <td>0.494141</td>\n",
       "      <td>0.933594</td>\n",
       "      <td>0.980469</td>\n",
       "      <td>PTLB_image (230).jpg</td>\n",
       "    </tr>\n",
       "    <tr>\n",
       "      <th>54344</th>\n",
       "      <td>24.0</td>\n",
       "      <td>0.453125</td>\n",
       "      <td>0.521484</td>\n",
       "      <td>0.906250</td>\n",
       "      <td>0.910156</td>\n",
       "      <td>SOHE_image (3588).jpg</td>\n",
       "    </tr>\n",
       "    <tr>\n",
       "      <th>54345</th>\n",
       "      <td>28.0</td>\n",
       "      <td>0.490234</td>\n",
       "      <td>0.500000</td>\n",
       "      <td>0.964844</td>\n",
       "      <td>0.992188</td>\n",
       "      <td>TMBS_image (192).jpg</td>\n",
       "    </tr>\n",
       "    <tr>\n",
       "      <th>54346</th>\n",
       "      <td>35.0</td>\n",
       "      <td>0.460938</td>\n",
       "      <td>0.503906</td>\n",
       "      <td>0.820312</td>\n",
       "      <td>0.773438</td>\n",
       "      <td>TMYC_image (4515).jpg</td>\n",
       "    </tr>\n",
       "    <tr>\n",
       "      <th>54347</th>\n",
       "      <td>34.0</td>\n",
       "      <td>0.482422</td>\n",
       "      <td>0.480469</td>\n",
       "      <td>0.863281</td>\n",
       "      <td>0.953125</td>\n",
       "      <td>TMTS_image (1390).jpg</td>\n",
       "    </tr>\n",
       "  </tbody>\n",
       "</table>\n",
       "<p>54348 rows × 6 columns</p>\n",
       "</div>"
      ],
      "text/plain": [
       "          0         1         2         3         4                      5\n",
       "0      35.0  0.464844  0.482422  0.601562  0.917969  TMYC_image (4576).jpg\n",
       "1      35.0  0.505859  0.503906  0.878906  0.937500  TMYC_image (1978).jpg\n",
       "2       5.0  0.513672  0.500000  0.933594  0.992188    CHPM_image (49).jpg\n",
       "3       2.0  0.476562  0.509766  0.914062  0.949219   APCR_image (149).jpg\n",
       "4      20.0  0.488281  0.492188  0.976562  0.984375   PTEB_image (117).jpg\n",
       "...     ...       ...       ...       ...       ...                    ...\n",
       "54343  21.0  0.482422  0.494141  0.933594  0.980469   PTLB_image (230).jpg\n",
       "54344  24.0  0.453125  0.521484  0.906250  0.910156  SOHE_image (3588).jpg\n",
       "54345  28.0  0.490234  0.500000  0.964844  0.992188   TMBS_image (192).jpg\n",
       "54346  35.0  0.460938  0.503906  0.820312  0.773438  TMYC_image (4515).jpg\n",
       "54347  34.0  0.482422  0.480469  0.863281  0.953125  TMTS_image (1390).jpg\n",
       "\n",
       "[54348 rows x 6 columns]"
      ]
     },
     "metadata": {},
     "output_type": "display_data"
    }
   ],
   "source": [
    "BOX=pd.DataFrame()\n",
    "\n",
    "for i in range(len(boxdata)):\n",
    "    if type(boxdata[i][0])==np.float64:\n",
    "        add=pd.DataFrame([boxdata[i]])\n",
    "        add[5]=boxfile[i]\n",
    "        BOX=pd.concat([BOX,add])\n",
    "    else:\n",
    "        add=pd.DataFrame(boxdata[i])\n",
    "        add[5]=boxfile[i]\n",
    "        BOX=pd.concat([BOX,add])       \n",
    "\n",
    "BOX2=BOX.reset_index(drop=True)\n",
    "BOX2.iloc[:,0]=BOX2.iloc[:,0].astype(int)\n",
    "display(BOX2)"
   ]
  },
  {
   "cell_type": "code",
   "execution_count": 13,
   "metadata": {},
   "outputs": [
    {
     "data": {
      "text/plain": [
       "0\n",
       "15.0    5507\n",
       "35.0    5361\n",
       "24.0    5089\n",
       "16.0    2297\n",
       "28.0    2127\n",
       "30.0    1911\n",
       "25.0    1835\n",
       "32.0    1778\n",
       "33.0    1677\n",
       "3.0     1645\n",
       "37.0    1591\n",
       "4.0     1502\n",
       "19.0    1477\n",
       "34.0    1405\n",
       "12.0    1383\n",
       "8.0     1192\n",
       "11.0    1180\n",
       "10.0    1157\n",
       "26.0    1134\n",
       "13.0    1076\n",
       "5.0     1052\n",
       "29.0    1004\n",
       "20.0    1000\n",
       "21.0    1000\n",
       "18.0     997\n",
       "9.0      989\n",
       "31.0     952\n",
       "6.0      853\n",
       "0.0      630\n",
       "1.0      621\n",
       "7.0      516\n",
       "27.0     456\n",
       "14.0     423\n",
       "36.0     373\n",
       "23.0     371\n",
       "17.0     360\n",
       "2.0      275\n",
       "22.0     152\n",
       "Name: count, dtype: int64"
      ]
     },
     "metadata": {},
     "output_type": "display_data"
    }
   ],
   "source": [
    "display(BOX2.iloc[:,0].value_counts())"
   ]
  },
  {
   "cell_type": "code",
   "execution_count": 14,
   "metadata": {},
   "outputs": [
    {
     "data": {
      "text/plain": [
       "5\n",
       "STLS_image (343).jpg     3\n",
       "TMEB_image (967).jpg     3\n",
       "CNLB_image (339).jpg     2\n",
       "TMSL_image (1141).jpg    2\n",
       "STLS_image (279).jpg     2\n",
       "                        ..\n",
       "TMLM_image (649).jpg     1\n",
       "TMLM_image (439).jpg     1\n",
       "TMBS_image (1796).jpg    1\n",
       "APHE_image (642).jpg     1\n",
       "ORHL_image (1592).jpg    1\n",
       "Name: count, Length: 54293, dtype: int64"
      ]
     },
     "execution_count": 14,
     "metadata": {},
     "output_type": "execute_result"
    }
   ],
   "source": [
    "BOX2[5].value_counts()"
   ]
  },
  {
   "cell_type": "code",
   "execution_count": 15,
   "metadata": {},
   "outputs": [],
   "source": [
    "def draw_box(n0):\n",
    "    \n",
    "    ipath=ipaths[n0]\n",
    "    image=cv2.imread(ipath)\n",
    "    H,W=image.shape[0],image.shape[1]\n",
    "    file=ipath.split('/')[-1] \n",
    "    \n",
    "    if BOX2[BOX2[5]==file] is not None:\n",
    "        box=BOX2[BOX2[5]==file]\n",
    "        box=box.reset_index(drop=True)\n",
    "        #display(box)\n",
    "        \n",
    "        for i in range(len(box)):\n",
    "            label=int(box.loc[i,0])\n",
    "            x=box.loc[i,1]\n",
    "            y=box.loc[i,2]\n",
    "            w=box.loc[i,3] \n",
    "            h=box.loc[i,4]\n",
    "            x1=((x-w/2)*W).astype(int)\n",
    "            y1=((y-h/2)*H).astype(int)\n",
    "            x2=((x+w/2)*W).astype(int)\n",
    "            y2=((y+h/2)*H).astype(int)\n",
    "            \n",
    "            cv2.rectangle(image,(x1,y1),(x2,y2),(0,255,0),2) #green\n",
    "\n",
    "            cv2.putText(image, f'{label}', (50,50), \n",
    "                        cv2.FONT_HERSHEY_SIMPLEX, 0.5, (0,255,0), 2)     \n",
    "    #plt.imshow(image)\n",
    "    #plt.show()\n",
    "    \n",
    "    return image"
   ]
  },
  {
   "cell_type": "code",
   "execution_count": 16,
   "metadata": {},
   "outputs": [],
   "source": [
    "images1=[]\n",
    "for i in range(len(ipaths)):\n",
    "    images1+=[draw_box(i)]"
   ]
  },
  {
   "cell_type": "code",
   "execution_count": null,
   "metadata": {},
   "outputs": [],
   "source": [
    "from matplotlib import animation, rc\n",
    "rc('animation', html='jshtml')"
   ]
  },
  {
   "cell_type": "code",
   "execution_count": null,
   "metadata": {},
   "outputs": [],
   "source": [
    "def create_animation(ims):    \n",
    "    fig=plt.figure(figsize=(10,6))\n",
    "    #plt.axis('off')\n",
    "    im=plt.imshow(cv2.cvtColor(ims[0],cv2.COLOR_BGR2RGB))\n",
    "    plt.close()    \n",
    "    def animate_func(i):\n",
    "        im.set_array(cv2.cvtColor(ims[i],cv2.COLOR_BGR2RGB))\n",
    "        return [im]\n",
    "    return animation.FuncAnimation(fig, animate_func, frames=len(ims), interval=1000//2)"
   ]
  },
  {
   "cell_type": "code",
   "execution_count": null,
   "metadata": {},
   "outputs": [],
   "source": [
    "create_animation(images1)"
   ]
  },
  {
   "cell_type": "code",
   "execution_count": 17,
   "metadata": {},
   "outputs": [],
   "source": [
    "os.makedirs('datasets', exist_ok=True)\n",
    "os.makedirs('datasets/train', exist_ok=True)\n",
    "os.makedirs('datasets/valid', exist_ok=True)\n",
    "os.makedirs('datasets/test', exist_ok=True)"
   ]
  },
  {
   "cell_type": "code",
   "execution_count": 18,
   "metadata": {},
   "outputs": [],
   "source": [
    "from shutil import copyfile\n",
    "\n",
    "total = len(ipaths)\n",
    "\n",
    "for i, (ipath, tpath) in enumerate(zip(ipaths, tpaths)):\n",
    "    ifile = ipath.split('/')[-1]\n",
    "    tfile = tpath.split('/')[-1]\n",
    "\n",
    "    ratio = i / total\n",
    "\n",
    "    if ratio < 0.7:\n",
    "        folder = 'train'\n",
    "    elif ratio < 0.9:\n",
    "        folder = 'valid'\n",
    "    else:\n",
    "        folder = 'test'\n",
    "\n",
    "    copyfile(ipath, f'datasets/{folder}/{ifile}')\n",
    "    copyfile(tpath, f'datasets/{folder}/{tfile}')\n"
   ]
  },
  {
   "cell_type": "code",
   "execution_count": 19,
   "metadata": {},
   "outputs": [
    {
     "name": "stdout",
     "output_type": "stream",
     "text": [
      "{names: [Apple___Apple_scab, Apple___Black_rot, Apple___Cedar_apple_rust, Apple___healthy,\n",
      "    Blueberry___healthy, Cherry___Powdery_mildew, Cherry___healthy, Corn___Cercospora_leaf_spot\n",
      "      Gray_leaf_spot, Corn___Common_rust, Corn___Northern_Leaf_Blight, Corn___healthy,\n",
      "    Grape___Black_rot, Grape___Esca_(Black_Measles), Grape___Leaf_blight_(Isariopsis_Leaf_Spot),\n",
      "    Grape___healthy, Orange___Haunglongbing_(Citrus_greening), Peach___Bacterial_spot,\n",
      "    Peach___healthy, 'Pepper,_bell___Bacterial_spot', 'Pepper,_bell___healthy', Potato___Early_blight,\n",
      "    Potato___Late_blight, Potato___healthy, Raspberry___healthy, Soybean___healthy,\n",
      "    Squash___Powdery_mildew, Strawberry___Leaf_scorch, Strawberry___healthy, Tomato___Bacterial_spot,\n",
      "    Tomato___Early_blight, Tomato___Late_blight, Tomato___Leaf_Mold, Tomato___Septoria_leaf_spot,\n",
      "    Tomato___Spider_mites Two-spotted_spider_mite, Tomato___Target_Spot, Tomato___Tomato_Yellow_Leaf_Curl_Virus,\n",
      "    Tomato___Tomato_mosaic_virus, Tomato___healthy], nc: 38, test: test, train: train,\n",
      "  val: valid}\n"
     ]
    }
   ],
   "source": [
    "import yaml\n",
    "\n",
    "class_names = [\n",
    "    'Apple___Apple_scab',\n",
    "    'Apple___Black_rot',\n",
    "    'Apple___Cedar_apple_rust',\n",
    "    'Apple___healthy',\n",
    "    'Blueberry___healthy',\n",
    "    'Cherry___Powdery_mildew',\n",
    "    'Cherry___healthy',\n",
    "    'Corn___Cercospora_leaf_spot Gray_leaf_spot',\n",
    "    'Corn___Common_rust',\n",
    "    'Corn___Northern_Leaf_Blight',\n",
    "    'Corn___healthy',\n",
    "    'Grape___Black_rot',\n",
    "    'Grape___Esca_(Black_Measles)',\n",
    "    'Grape___Leaf_blight_(Isariopsis_Leaf_Spot)',\n",
    "    'Grape___healthy',\n",
    "    'Orange___Haunglongbing_(Citrus_greening)',\n",
    "    'Peach___Bacterial_spot',\n",
    "    'Peach___healthy',\n",
    "    'Pepper,_bell___Bacterial_spot',\n",
    "    'Pepper,_bell___healthy',\n",
    "    'Potato___Early_blight',\n",
    "    'Potato___Late_blight',\n",
    "    'Potato___healthy',\n",
    "    'Raspberry___healthy',\n",
    "    'Soybean___healthy',\n",
    "    'Squash___Powdery_mildew',\n",
    "    'Strawberry___Leaf_scorch',\n",
    "    'Strawberry___healthy',\n",
    "    'Tomato___Bacterial_spot',\n",
    "    'Tomato___Early_blight',\n",
    "    'Tomato___Late_blight',\n",
    "    'Tomato___Leaf_Mold',\n",
    "    'Tomato___Septoria_leaf_spot',\n",
    "    'Tomato___Spider_mites Two-spotted_spider_mite',\n",
    "    'Tomato___Target_Spot',\n",
    "    'Tomato___Tomato_Yellow_Leaf_Curl_Virus',\n",
    "    'Tomato___Tomato_mosaic_virus',\n",
    "    'Tomato___healthy'\n",
    "]\n",
    "\n",
    "face_yaml = dict(\n",
    "    train='train',\n",
    "    val='valid',\n",
    "    test='test',\n",
    "    nc=len(class_names),\n",
    "    names=class_names\n",
    ")\n",
    "\n",
    "with open('face.yaml', 'w') as outfile:\n",
    "    yaml.dump(face_yaml, outfile, default_flow_style=True)\n",
    "    \n",
    "%cat face.yaml"
   ]
  },
  {
   "cell_type": "code",
   "execution_count": 20,
   "metadata": {},
   "outputs": [
    {
     "name": "stdout",
     "output_type": "stream",
     "text": [
      "Downloading https://github.com/ultralytics/assets/releases/download/v8.3.0/yolo11n.pt to 'yolo11n.pt'...\n"
     ]
    },
    {
     "name": "stderr",
     "output_type": "stream",
     "text": [
      "100%|██████████| 5.35M/5.35M [00:00<00:00, 158MB/s]\n"
     ]
    }
   ],
   "source": [
    "model = YOLO(\"yolo11n.pt\")"
   ]
  },
  {
   "cell_type": "code",
   "execution_count": null,
   "metadata": {},
   "outputs": [],
   "source": [
    "import subprocess\n",
    "\n",
    "subprocess.run([\n",
    "    \"yolo\", \"detect\", \"train\",\n",
    "    \"model=yolo11n.pt\",\n",
    "    \"data=face.yaml\",\n",
    "    \"epochs=200\",\n",
    "    \"imgsz=640\",\n",
    "    \"hsv_h=0.015\", \"hsv_s=0.7\", \"hsv_v=0.4\",\n",
    "    \"degrees=5\", \"translate=0.1\", \"scale=0.5\", \"shear=2.0\",\n",
    "    \"perspective=0.002\", \"flipud=0.3\", \"fliplr=0.5\",\n",
    "    \"mosaic=1.0\", \"mixup=0.2\", \"copy_paste=0.1\",\n",
    "    \"close_mosaic=15\", \"cache=True\"\n",
    "])\n"
   ]
  }
 ],
 "metadata": {
  "language_info": {
   "name": "python"
  }
 },
 "nbformat": 4,
 "nbformat_minor": 2
}
